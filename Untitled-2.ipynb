{
 "cells": [
  {
   "cell_type": "code",
   "execution_count": 2,
   "metadata": {},
   "outputs": [
    {
     "name": "stderr",
     "output_type": "stream",
     "text": [
      "Durante la inicialización - Warning messages:\n",
      "1: Setting LC_COLLATE failed, using \"C\" \n",
      "2: Setting LC_TIME failed, using \"C\" \n",
      "3: Setting LC_MESSAGES failed, using \"C\" \n",
      "4: Setting LC_MONETARY failed, using \"C\" \n"
     ]
    }
   ],
   "source": [
    "%load_ext rpy2.ipython\n",
    "%load_ext autoreload\n",
    "%autoreload 2\n",
    "\n",
    "%matplotlib inline  \n",
    "from matplotlib import rcParams\n",
    "rcParams['figure.figsize'] = (16, 100)\n",
    "\n",
    "import warnings\n",
    "from rpy2.rinterface import RRuntimeWarning\n",
    "warnings.filterwarnings(\"ignore\") # Ignore all warnings\n",
    "# warnings.filterwarnings(\"ignore\", category=RRuntimeWarning) # Show some warnings\n",
    "\n",
    "import pandas as pd\n",
    "import numpy as np\n",
    "import matplotlib.pyplot as plt\n",
    "from IPython.display import display, HTML"
   ]
  },
  {
   "cell_type": "code",
   "execution_count": 6,
   "metadata": {},
   "outputs": [
    {
     "name": "stdout",
     "output_type": "stream",
     "text": [
      "--- Please select a CRAN mirror for use in this session ---"
     ]
    },
    {
     "name": "stdout",
     "output_type": "stream",
     "text": [
      "\n",
      "Secure CRAN mirrors \n",
      "\n",
      " 1: 0-Cloud [https]\n",
      " 2: Australia (Canberra) [https]\n",
      " 3: Australia (Melbourne 1) [https]\n",
      " 4: Australia (Melbourne 2) [https]\n",
      " 5: Austria [https]\n",
      " 6: Belgium (Brussels) [https]\n",
      " 7: Brazil (PR) [https]\n",
      " 8: Brazil (RJ) [https]\n",
      " 9: Brazil (SP 1) [https]\n",
      "10: Brazil (SP 2) [https]\n",
      "11: Bulgaria [https]\n",
      "12: Canada (MB) [https]\n",
      "13: Canada (ON) [https]\n",
      "14: Chile (Santiago) [https]\n",
      "15: China (Beijing 2) [https]\n",
      "16: China (Beijing 3) [https]\n",
      "17: China (Hefei) [https]\n",
      "18: China (Hong Kong) [https]\n",
      "19: China (Guangzhou) [https]\n",
      "20: China (Jinan) [https]\n",
      "21: China (Lanzhou) [https]\n",
      "22: China (Nanjing) [https]\n",
      "23: China (Shanghai 2) [https]\n",
      "24: China (Shenzhen) [https]\n",
      "25: Colombia (Cali) [https]\n",
      "26: Costa Rica [https]\n",
      "27: Czech Republic [https]\n",
      "28: Denmark [https]\n",
      "29: Ecuador (Cuenca) [https]\n",
      "30: France (Lyon 1) [https]\n",
      "31: France (Lyon 2) [https]\n",
      "32: France (Marseille) [https]\n",
      "33: France (Paris 1) [https]\n",
      "34: Germany (Erlangen) [https]\n",
      "35: Germany (Leipzig) [https]\n",
      "36: Germany (Göttingen) [https]\n",
      "37: Germany (Münster) [https]\n",
      "38: Greece [https]\n",
      "39: Iceland [https]\n",
      "40: India (Bengaluru) [https]\n",
      "41: India (Bhubaneswar) [https]\n",
      "42: Indonesia (Banda Aceh) [https]\n",
      "43: Iran (Mashhad) [https]\n",
      "44: Italy (Milano) [https]\n",
      "45: Italy (Padua) [https]\n",
      "46: Japan (Tokyo) [https]\n",
      "47: Japan (Yonezawa) [https]\n",
      "48: Korea (Gyeongsan-si) [https]\n",
      "49: Mexico (Mexico City) [https]\n",
      "50: Mexico (Texcoco) [https]\n",
      "51: Morocco [https]\n",
      "52: Netherlands (Dronten) [https]\n",
      "53: New Zealand [https]\n",
      "54: Norway [https]\n",
      "55: South Africa (Johannesburg) [https]\n",
      "56: Spain (A Coruña) [https]\n",
      "57: Spain (Madrid) [https]\n",
      "58: Sweden (Umeå) [https]\n",
      "59: Switzerland (Zurich 1) [https]\n",
      "60: Taiwan (Taipei) [https]\n",
      "61: Turkey (Denizli) [https]\n",
      "62: Turkey (Istanbul) [https]\n",
      "63: UK (Bristol) [https]\n",
      "64: UK (London 1) [https]\n",
      "65: USA (IA) [https]\n",
      "66: USA (MI) [https]\n",
      "67: USA (MO) [https]\n",
      "68: USA (OH) [https]\n",
      "69: USA (OR) [https]\n",
      "70: USA (TN) [https]\n",
      "71: United Arab Emirates [https]\n",
      "72: Uruguay [https]\n",
      "73: (other mirrors)\n",
      "\n"
     ]
    },
    {
     "name": "stderr",
     "output_type": "stream",
     "text": [
      "Durante la inicialización - Warning messages:\n",
      "1: Setting LC_TIME failed, using \"C\" \n",
      "2: Setting LC_MESSAGES failed, using \"C\" \n",
      "3: Setting LC_MONETARY failed, using \"C\" \n",
      "* installing *source* package ‘googlesheets4’ ...\n",
      "** package ‘googlesheets4’ successfully unpacked and MD5 sums checked\n",
      "** using staged installation\n",
      "** R\n",
      "** inst\n",
      "** byte-compile and prepare package for lazy loading\n"
     ]
    },
    {
     "name": "stdout",
     "output_type": "stream",
     "text": [
      "Durante la inicialización - Warning messages:\n",
      "1: Setting LC_TIME failed, using \"C\" \n",
      "2: Setting LC_MESSAGES failed, using \"C\" \n",
      "3: Setting LC_MONETARY failed, using \"C\" \n"
     ]
    },
    {
     "name": "stderr",
     "output_type": "stream",
     "text": [
      "** help\n",
      "*** installing help indices\n",
      "*** copying figures\n",
      "** building package indices\n"
     ]
    },
    {
     "name": "stdout",
     "output_type": "stream",
     "text": [
      "Durante la inicialización - Warning messages:\n",
      "1: Setting LC_TIME failed, using \"C\" \n",
      "2: Setting LC_MESSAGES failed, using \"C\" \n",
      "3: Setting LC_MONETARY failed, using \"C\" \n"
     ]
    },
    {
     "name": "stderr",
     "output_type": "stream",
     "text": [
      "** testing if installed package can be loaded from temporary location\n"
     ]
    },
    {
     "name": "stdout",
     "output_type": "stream",
     "text": [
      "Durante la inicialización - Warning messages:\n",
      "1: Setting LC_TIME failed, using \"C\" \n",
      "2: Setting LC_MESSAGES failed, using \"C\" \n",
      "3: Setting LC_MONETARY failed, using \"C\" \n"
     ]
    },
    {
     "name": "stderr",
     "output_type": "stream",
     "text": [
      "** testing if installed package can be loaded from final location\n"
     ]
    },
    {
     "name": "stdout",
     "output_type": "stream",
     "text": [
      "Durante la inicialización - Warning messages:\n",
      "1: Setting LC_TIME failed, using \"C\" \n",
      "2: Setting LC_MESSAGES failed, using \"C\" \n",
      "3: Setting LC_MONETARY failed, using \"C\" \n"
     ]
    },
    {
     "name": "stderr",
     "output_type": "stream",
     "text": [
      "** testing if installed package keeps a record of temporary installation path\n",
      "* DONE (googlesheets4)\n"
     ]
    },
    {
     "data": {
      "text/plain": [
       "Installing package into ‘/usr/local/lib/R/4.3/site-library’\n",
       "(as ‘lib’ is unspecified)\n",
       "probando la URL 'https://stat.ethz.ch/CRAN/src/contrib/googlesheets4_1.1.1.tar.gz'\n",
       "Content type 'application/x-gzip' length 232584 bytes (227 KB)\n",
       "==================================================\n",
       "downloaded 227 KB\n",
       "\n",
       "\n",
       "The downloaded source packages are in\n",
       "\t‘/private/var/folders/q8/p2jc4d5j7gq1vv276dfk9b480000gn/T/RtmpJ48BCn/downloaded_packages’\n"
      ]
     },
     "metadata": {},
     "output_type": "display_data"
    }
   ],
   "source": [
    "%%R \n",
    "install.packages('googlesheets4')"
   ]
  },
  {
   "cell_type": "code",
   "execution_count": 12,
   "metadata": {},
   "outputs": [
    {
     "name": "stderr",
     "output_type": "stream",
     "text": [
      "Durante la inicialización - Warning messages:\n",
      "1: Setting LC_TIME failed, using \"C\" \n",
      "2: Setting LC_MESSAGES failed, using \"C\" \n",
      "3: Setting LC_MONETARY failed, using \"C\" \n",
      "* installing *source* package ‘googlesheets4’ ...\n",
      "** package ‘googlesheets4’ successfully unpacked and MD5 sums checked\n",
      "** using staged installation\n",
      "** R\n",
      "** inst\n",
      "** byte-compile and prepare package for lazy loading\n"
     ]
    },
    {
     "name": "stdout",
     "output_type": "stream",
     "text": [
      "Durante la inicialización - Warning messages:\n",
      "1: Setting LC_TIME failed, using \"C\" \n",
      "2: Setting LC_MESSAGES failed, using \"C\" \n",
      "3: Setting LC_MONETARY failed, using \"C\" \n"
     ]
    },
    {
     "name": "stderr",
     "output_type": "stream",
     "text": [
      "** help\n",
      "*** installing help indices\n",
      "*** copying figures\n",
      "** building package indices\n"
     ]
    },
    {
     "name": "stdout",
     "output_type": "stream",
     "text": [
      "Durante la inicialización - Warning messages:\n",
      "1: Setting LC_TIME failed, using \"C\" \n",
      "2: Setting LC_MESSAGES failed, using \"C\" \n",
      "3: Setting LC_MONETARY failed, using \"C\" \n"
     ]
    },
    {
     "name": "stderr",
     "output_type": "stream",
     "text": [
      "** testing if installed package can be loaded from temporary location\n"
     ]
    },
    {
     "name": "stdout",
     "output_type": "stream",
     "text": [
      "Durante la inicialización - Warning messages:\n",
      "1: Setting LC_TIME failed, using \"C\" \n",
      "2: Setting LC_MESSAGES failed, using \"C\" \n",
      "3: Setting LC_MONETARY failed, using \"C\" \n"
     ]
    },
    {
     "name": "stderr",
     "output_type": "stream",
     "text": [
      "** testing if installed package can be loaded from final location\n"
     ]
    },
    {
     "name": "stdout",
     "output_type": "stream",
     "text": [
      "Durante la inicialización - Warning messages:\n",
      "1: Setting LC_TIME failed, using \"C\" \n",
      "2: Setting LC_MESSAGES failed, using \"C\" \n",
      "3: Setting LC_MONETARY failed, using \"C\" \n"
     ]
    },
    {
     "name": "stderr",
     "output_type": "stream",
     "text": [
      "** testing if installed package keeps a record of temporary installation path\n",
      "* DONE (googlesheets4)\n",
      "Durante la inicialización - Warning messages:\n",
      "1: Setting LC_TIME failed, using \"C\" \n",
      "2: Setting LC_MESSAGES failed, using \"C\" \n",
      "3: Setting LC_MONETARY failed, using \"C\" \n",
      "* installing *source* package ‘ggplot2’ ...\n",
      "** package ‘ggplot2’ successfully unpacked and MD5 sums checked\n",
      "** using staged installation\n",
      "** R\n",
      "** data\n",
      "*** moving datasets to lazyload DB\n",
      "** inst\n",
      "** byte-compile and prepare package for lazy loading\n"
     ]
    },
    {
     "name": "stdout",
     "output_type": "stream",
     "text": [
      "Durante la inicialización - Warning messages:\n",
      "1: Setting LC_TIME failed, using \"C\" \n",
      "2: Setting LC_MESSAGES failed, using \"C\" \n",
      "3: Setting LC_MONETARY failed, using \"C\" \n"
     ]
    },
    {
     "name": "stderr",
     "output_type": "stream",
     "text": [
      "** help\n",
      "*** installing help indices\n",
      "*** copying figures\n",
      "** building package indices\n"
     ]
    },
    {
     "name": "stdout",
     "output_type": "stream",
     "text": [
      "Durante la inicialización - Warning messages:\n",
      "1: Setting LC_TIME failed, using \"C\" \n",
      "2: Setting LC_MESSAGES failed, using \"C\" \n",
      "3: Setting LC_MONETARY failed, using \"C\" \n"
     ]
    },
    {
     "name": "stderr",
     "output_type": "stream",
     "text": [
      "** installing vignettes\n",
      "** testing if installed package can be loaded from temporary location\n"
     ]
    },
    {
     "name": "stdout",
     "output_type": "stream",
     "text": [
      "Durante la inicialización - Warning messages:\n",
      "1: Setting LC_TIME failed, using \"C\" \n",
      "2: Setting LC_MESSAGES failed, using \"C\" \n",
      "3: Setting LC_MONETARY failed, using \"C\" \n"
     ]
    },
    {
     "name": "stderr",
     "output_type": "stream",
     "text": [
      "** testing if installed package can be loaded from final location\n"
     ]
    },
    {
     "name": "stdout",
     "output_type": "stream",
     "text": [
      "Durante la inicialización - Warning messages:\n",
      "1: Setting LC_TIME failed, using \"C\" \n",
      "2: Setting LC_MESSAGES failed, using \"C\" \n",
      "3: Setting LC_MONETARY failed, using \"C\" \n"
     ]
    },
    {
     "name": "stderr",
     "output_type": "stream",
     "text": [
      "** testing if installed package keeps a record of temporary installation path\n",
      "* DONE (ggplot2)\n"
     ]
    },
    {
     "data": {
      "text/plain": [
       "Installing package into ‘/usr/local/lib/R/4.3/site-library’\n",
       "(as ‘lib’ is unspecified)\n",
       "probando la URL 'https://stat.ethz.ch/CRAN/src/contrib/googlesheets4_1.1.1.tar.gz'\n",
       "Content type 'application/x-gzip' length 232584 bytes (227 KB)\n",
       "==================================================\n",
       "downloaded 227 KB\n",
       "\n",
       "\n",
       "The downloaded source packages are in\n",
       "\t‘/private/var/folders/q8/p2jc4d5j7gq1vv276dfk9b480000gn/T/RtmpJ48BCn/downloaded_packages’\n",
       "Installing package into ‘/usr/local/lib/R/4.3/site-library’\n",
       "(as ‘lib’ is unspecified)\n",
       "probando la URL 'https://stat.ethz.ch/CRAN/src/contrib/ggplot2_3.4.4.tar.gz'\n",
       "Content type 'application/x-gzip' length 3159578 bytes (3.0 MB)\n",
       "==================================================\n",
       "downloaded 3.0 MB\n",
       "\n",
       "\n",
       "The downloaded source packages are in\n",
       "\t‘/private/var/folders/q8/p2jc4d5j7gq1vv276dfk9b480000gn/T/RtmpJ48BCn/downloaded_packages’\n"
      ]
     },
     "metadata": {},
     "output_type": "display_data"
    }
   ],
   "source": [
    "%%R \n",
    "install.packages(\"googlesheets4\")\n",
    "install.packages(\"ggplot2\")"
   ]
  },
  {
   "cell_type": "code",
   "execution_count": 14,
   "metadata": {},
   "outputs": [],
   "source": [
    "%%R \n",
    "library(googlesheets4)\n",
    "library(ggplot2)"
   ]
  },
  {
   "cell_type": "code",
   "execution_count": 18,
   "metadata": {},
   "outputs": [
    {
     "name": "stdout",
     "output_type": "stream",
     "text": [
      "Error in `gs4_get_impl_()`:\n",
      "! Client error: (403) PERMISSION_DENIED\n",
      "• Client does not have sufficient permission. This can happen because the OAuth\n",
      "  token does not have the right scopes, the client doesn't have permission, or\n",
      "  the API has not been enabled for the client project.\n",
      "• Request had insufficient authentication scopes.\n",
      "\n",
      "Error details:\n",
      "• reason: ACCESS_TOKEN_SCOPE_INSUFFICIENT\n",
      "• domain: googleapis.com\n",
      "• metadata.service: sheets.googleapis.com\n",
      "• metadata.method: google.apps.sheets.v4.SpreadsheetsService.GetSpreadsheet\n",
      "Run `rlang::last_trace()` to see where the error occurred.\n",
      "\n",
      "Error in gs4_get_impl_(as_sheets_id(ss)) : \n",
      "• Client does not have sufficient permission. This can happen because the OAuth\n",
      "  token does not have the right scopes, the client doesn't have permission, or\n",
      "  the API has not been enabled for the client project.\n",
      "• Request had insufficient authentication scopes.\n",
      "\n",
      "Error details:\n",
      "• reason: ACCESS_TOKEN_SCOPE_INSUFFICIENT\n",
      "• domain: googleapis.com\n",
      "• metadata.service: sheets.googleapis.com\n",
      "• metadata.method: google.apps.sheets.v4.SpreadsheetsService.GetSpreadsheet\n"
     ]
    },
    {
     "ename": "RInterpreterError",
     "evalue": "Failed to parse and evaluate line \"library(googlesheets4)\\n\\nurl = 'https://docs.google.com/spreadsheets/d/1_IWB5MBY7f44NgogU6-ysxNI--FknJw82DFG-3U3BFs/edit#gid=0'\\n\\nwine <- read_sheet(url)\\n\\nwine |> \\n\\tselect(wine = Wine, variety = Variety, price = Price) |> \\n\\tggplot(aes(x = variety, y = price)) + \\n\\tgeom_point() + labs(x = 'Variety', y = 'Price (in $)', title = 'Wine prices across New Jersey')\\n\".\nR error message: \"Error in gs4_get_impl_(as_sheets_id(ss)) : \\n• Client does not have sufficient permission. This can happen because the OAuth\\n  token does not have the right scopes, the client doesn't have permission, or\\n  the API has not been enabled for the client project.\\n• Request had insufficient authentication scopes.\\n\\nError details:\\n• reason: ACCESS_TOKEN_SCOPE_INSUFFICIENT\\n• domain: googleapis.com\\n• metadata.service: sheets.googleapis.com\\n• metadata.method: google.apps.sheets.v4.SpreadsheetsService.GetSpreadsheet\"",
     "output_type": "error",
     "traceback": [
      "\u001b[0;31m---------------------------------------------------------------------------\u001b[0m",
      "\u001b[0;31mRRuntimeError\u001b[0m                             Traceback (most recent call last)",
      "File \u001b[0;32m~/.pyenv/versions/3.11.6/lib/python3.11/site-packages/rpy2/ipython/rmagic.py:407\u001b[0m, in \u001b[0;36mRMagics.eval\u001b[0;34m(self, code)\u001b[0m\n\u001b[1;32m    406\u001b[0m     r_expr \u001b[39m=\u001b[39m ri\u001b[39m.\u001b[39mparse(code)\n\u001b[0;32m--> 407\u001b[0m     value, visible \u001b[39m=\u001b[39m ri\u001b[39m.\u001b[39;49mevalr_expr_with_visible(\n\u001b[1;32m    408\u001b[0m         r_expr\n\u001b[1;32m    409\u001b[0m     )\n\u001b[1;32m    410\u001b[0m \u001b[39mexcept\u001b[39;00m (ri\u001b[39m.\u001b[39membedded\u001b[39m.\u001b[39mRRuntimeError, \u001b[39mValueError\u001b[39;00m) \u001b[39mas\u001b[39;00m exception:\n\u001b[1;32m    411\u001b[0m     \u001b[39m# Otherwise next return seems to have copy of error.\u001b[39;00m\n",
      "File \u001b[0;32m~/.pyenv/versions/3.11.6/lib/python3.11/site-packages/rpy2/rinterface.py:196\u001b[0m, in \u001b[0;36mevalr_expr_with_visible\u001b[0;34m(expr, envir)\u001b[0m\n\u001b[1;32m    195\u001b[0m \u001b[39mif\u001b[39;00m error_occured[\u001b[39m0\u001b[39m]:\n\u001b[0;32m--> 196\u001b[0m     \u001b[39mraise\u001b[39;00m embedded\u001b[39m.\u001b[39mRRuntimeError(_rinterface\u001b[39m.\u001b[39m_geterrmessage())\n\u001b[1;32m    197\u001b[0m res \u001b[39m=\u001b[39m conversion\u001b[39m.\u001b[39m_cdata_to_rinterface(r_res)\n",
      "\u001b[0;31mRRuntimeError\u001b[0m: Error in gs4_get_impl_(as_sheets_id(ss)) : \n• Client does not have sufficient permission. This can happen because the OAuth\n  token does not have the right scopes, the client doesn't have permission, or\n  the API has not been enabled for the client project.\n• Request had insufficient authentication scopes.\n\nError details:\n• reason: ACCESS_TOKEN_SCOPE_INSUFFICIENT\n• domain: googleapis.com\n• metadata.service: sheets.googleapis.com\n• metadata.method: google.apps.sheets.v4.SpreadsheetsService.GetSpreadsheet\n",
      "\nDuring handling of the above exception, another exception occurred:\n",
      "\u001b[0;31mRInterpreterError\u001b[0m                         Traceback (most recent call last)",
      "\u001b[1;32mUntitled-2.ipynb Cell 5\u001b[0m line \u001b[0;36m1\n\u001b[0;32m----> <a href='vscode-notebook-cell:Untitled-2.ipynb?jupyter-notebook#W0sdW50aXRsZWQ%3D?line=0'>1</a>\u001b[0m get_ipython()\u001b[39m.\u001b[39;49mrun_cell_magic(\u001b[39m'\u001b[39;49m\u001b[39mR\u001b[39;49m\u001b[39m'\u001b[39;49m, \u001b[39m'\u001b[39;49m\u001b[39m'\u001b[39;49m, \u001b[39m\"\u001b[39;49m\u001b[39mlibrary(googlesheets4)\u001b[39;49m\u001b[39m\\n\u001b[39;49;00m\u001b[39m\\n\u001b[39;49;00m\u001b[39murl = \u001b[39;49m\u001b[39m'\u001b[39;49m\u001b[39mhttps://docs.google.com/spreadsheets/d/1_IWB5MBY7f44NgogU6-ysxNI--FknJw82DFG-3U3BFs/edit#gid=0\u001b[39;49m\u001b[39m'\u001b[39;49m\u001b[39m\\n\u001b[39;49;00m\u001b[39m\\n\u001b[39;49;00m\u001b[39mwine <- read_sheet(url)\u001b[39;49m\u001b[39m\\n\u001b[39;49;00m\u001b[39m\\n\u001b[39;49;00m\u001b[39mwine |> \u001b[39;49m\u001b[39m\\n\u001b[39;49;00m\u001b[39m\\t\u001b[39;49;00m\u001b[39mselect(wine = Wine, variety = Variety, price = Price) |> \u001b[39;49m\u001b[39m\\n\u001b[39;49;00m\u001b[39m\\t\u001b[39;49;00m\u001b[39mggplot(aes(x = variety, y = price)) + \u001b[39;49m\u001b[39m\\n\u001b[39;49;00m\u001b[39m\\t\u001b[39;49;00m\u001b[39mgeom_point() + labs(x = \u001b[39;49m\u001b[39m'\u001b[39;49m\u001b[39mVariety\u001b[39;49m\u001b[39m'\u001b[39;49m\u001b[39m, y = \u001b[39;49m\u001b[39m'\u001b[39;49m\u001b[39mPrice (in $)\u001b[39;49m\u001b[39m'\u001b[39;49m\u001b[39m, title = \u001b[39;49m\u001b[39m'\u001b[39;49m\u001b[39mWine prices across New Jersey\u001b[39;49m\u001b[39m'\u001b[39;49m\u001b[39m)\u001b[39;49m\u001b[39m\\n\u001b[39;49;00m\u001b[39m\"\u001b[39;49m)\n",
      "File \u001b[0;32m~/.pyenv/versions/3.11.6/lib/python3.11/site-packages/IPython/core/interactiveshell.py:2517\u001b[0m, in \u001b[0;36mInteractiveShell.run_cell_magic\u001b[0;34m(self, magic_name, line, cell)\u001b[0m\n\u001b[1;32m   2515\u001b[0m \u001b[39mwith\u001b[39;00m \u001b[39mself\u001b[39m\u001b[39m.\u001b[39mbuiltin_trap:\n\u001b[1;32m   2516\u001b[0m     args \u001b[39m=\u001b[39m (magic_arg_s, cell)\n\u001b[0;32m-> 2517\u001b[0m     result \u001b[39m=\u001b[39m fn(\u001b[39m*\u001b[39;49margs, \u001b[39m*\u001b[39;49m\u001b[39m*\u001b[39;49mkwargs)\n\u001b[1;32m   2519\u001b[0m \u001b[39m# The code below prevents the output from being displayed\u001b[39;00m\n\u001b[1;32m   2520\u001b[0m \u001b[39m# when using magics with decorator @output_can_be_silenced\u001b[39;00m\n\u001b[1;32m   2521\u001b[0m \u001b[39m# when the last Python token in the expression is a ';'.\u001b[39;00m\n\u001b[1;32m   2522\u001b[0m \u001b[39mif\u001b[39;00m \u001b[39mgetattr\u001b[39m(fn, magic\u001b[39m.\u001b[39mMAGIC_OUTPUT_CAN_BE_SILENCED, \u001b[39mFalse\u001b[39;00m):\n",
      "File \u001b[0;32m~/.pyenv/versions/3.11.6/lib/python3.11/site-packages/rpy2/ipython/rmagic.py:984\u001b[0m, in \u001b[0;36mRMagics.R\u001b[0;34m(self, line, cell, local_ns)\u001b[0m\n\u001b[1;32m    982\u001b[0m     \u001b[39mif\u001b[39;00m \u001b[39mnot\u001b[39;00m e\u001b[39m.\u001b[39mstdout\u001b[39m.\u001b[39mendswith(e\u001b[39m.\u001b[39merr):\n\u001b[1;32m    983\u001b[0m         \u001b[39mprint\u001b[39m(e\u001b[39m.\u001b[39merr)\n\u001b[0;32m--> 984\u001b[0m     \u001b[39mraise\u001b[39;00m e\n\u001b[1;32m    985\u001b[0m \u001b[39mfinally\u001b[39;00m:\n\u001b[1;32m    986\u001b[0m     \u001b[39mif\u001b[39;00m \u001b[39mself\u001b[39m\u001b[39m.\u001b[39mdevice \u001b[39min\u001b[39;00m DEVICES_STATIC:\n",
      "File \u001b[0;32m~/.pyenv/versions/3.11.6/lib/python3.11/site-packages/rpy2/ipython/rmagic.py:949\u001b[0m, in \u001b[0;36mRMagics.R\u001b[0;34m(self, line, cell, local_ns)\u001b[0m\n\u001b[1;32m    947\u001b[0m         return_output \u001b[39m=\u001b[39m \u001b[39mFalse\u001b[39;00m\n\u001b[1;32m    948\u001b[0m \u001b[39melse\u001b[39;00m:\n\u001b[0;32m--> 949\u001b[0m     text_result, result, visible \u001b[39m=\u001b[39m \u001b[39mself\u001b[39;49m\u001b[39m.\u001b[39;49meval(code)\n\u001b[1;32m    950\u001b[0m     text_output \u001b[39m+\u001b[39m\u001b[39m=\u001b[39m text_result\n\u001b[1;32m    951\u001b[0m     \u001b[39mif\u001b[39;00m visible:\n",
      "File \u001b[0;32m~/.pyenv/versions/3.11.6/lib/python3.11/site-packages/rpy2/ipython/rmagic.py:413\u001b[0m, in \u001b[0;36mRMagics.eval\u001b[0;34m(self, code)\u001b[0m\n\u001b[1;32m    410\u001b[0m \u001b[39mexcept\u001b[39;00m (ri\u001b[39m.\u001b[39membedded\u001b[39m.\u001b[39mRRuntimeError, \u001b[39mValueError\u001b[39;00m) \u001b[39mas\u001b[39;00m exception:\n\u001b[1;32m    411\u001b[0m     \u001b[39m# Otherwise next return seems to have copy of error.\u001b[39;00m\n\u001b[1;32m    412\u001b[0m     warning_or_other_msg \u001b[39m=\u001b[39m \u001b[39mself\u001b[39m\u001b[39m.\u001b[39mflush()\n\u001b[0;32m--> 413\u001b[0m     \u001b[39mraise\u001b[39;00m RInterpreterError(code, \u001b[39mstr\u001b[39m(exception),\n\u001b[1;32m    414\u001b[0m                             warning_or_other_msg)\n\u001b[1;32m    415\u001b[0m \u001b[39mfinally\u001b[39;00m:\n\u001b[1;32m    416\u001b[0m     ro\u001b[39m.\u001b[39m_print_deferred_warnings()\n",
      "\u001b[0;31mRInterpreterError\u001b[0m: Failed to parse and evaluate line \"library(googlesheets4)\\n\\nurl = 'https://docs.google.com/spreadsheets/d/1_IWB5MBY7f44NgogU6-ysxNI--FknJw82DFG-3U3BFs/edit#gid=0'\\n\\nwine <- read_sheet(url)\\n\\nwine |> \\n\\tselect(wine = Wine, variety = Variety, price = Price) |> \\n\\tggplot(aes(x = variety, y = price)) + \\n\\tgeom_point() + labs(x = 'Variety', y = 'Price (in $)', title = 'Wine prices across New Jersey')\\n\".\nR error message: \"Error in gs4_get_impl_(as_sheets_id(ss)) : \\n• Client does not have sufficient permission. This can happen because the OAuth\\n  token does not have the right scopes, the client doesn't have permission, or\\n  the API has not been enabled for the client project.\\n• Request had insufficient authentication scopes.\\n\\nError details:\\n• reason: ACCESS_TOKEN_SCOPE_INSUFFICIENT\\n• domain: googleapis.com\\n• metadata.service: sheets.googleapis.com\\n• metadata.method: google.apps.sheets.v4.SpreadsheetsService.GetSpreadsheet\""
     ]
    }
   ],
   "source": [
    "%%R \n",
    "library(googlesheets4)\n",
    "\n",
    "url = 'https://docs.google.com/spreadsheets/d/1_IWB5MBY7f44NgogU6-ysxNI--FknJw82DFG-3U3BFs/edit#gid=0'\n",
    "\n",
    "wine <- read_sheet(url)\n",
    "\n",
    "wine |> \n",
    "\tselect(wine = Wine, variety = Variety, price = Price) |> \n",
    "\tggplot(aes(x = variety, y = price)) + \n",
    "\tgeom_point() + labs(x = 'Variety', y = 'Price (in $)', title = 'Wine prices across New Jersey')"
   ]
  }
 ],
 "metadata": {
  "kernelspec": {
   "display_name": "Python 3",
   "language": "python",
   "name": "python3"
  },
  "language_info": {
   "codemirror_mode": {
    "name": "ipython",
    "version": 3
   },
   "file_extension": ".py",
   "mimetype": "text/x-python",
   "name": "python",
   "nbconvert_exporter": "python",
   "pygments_lexer": "ipython3",
   "version": "3.11.6"
  }
 },
 "nbformat": 4,
 "nbformat_minor": 2
}
